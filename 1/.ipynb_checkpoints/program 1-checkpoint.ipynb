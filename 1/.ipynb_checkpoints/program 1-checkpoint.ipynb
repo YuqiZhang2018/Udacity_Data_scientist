{
 "cells": [
  {
   "cell_type": "markdown",
   "id": "38a432f4",
   "metadata": {},
   "source": [
    "# Project 1"
   ]
  },
  {
   "cell_type": "markdown",
   "id": "cc3508d3",
   "metadata": {},
   "source": [
    "## 1. Business understanding\n",
    "\n",
    "For this project, I choose the \"fordgobike\" dataset which records each share bike usage. I want to use this dataset to solve the following business questions.\n",
    "\n",
    "\n",
    "(1) Analyze the relationship between the duration of usage and the type of user (subscriber or customer). \n",
    "\n",
    "\n",
    "(2) Analyze the optimal placement of shared bicycles using clustering methods.\n",
    "\n",
    "\n",
    "(3) Analyze the temporal periodicity of usage to understand user behavior."
   ]
  },
  {
   "cell_type": "markdown",
   "id": "d987f416",
   "metadata": {},
   "source": [
    "## 2. Data understanding\n",
    "\n",
    "This dataset records gobike's user usage details, including who, when, where, and so on. Each row is a single use record, and there are 180K+ pieces of data with 16 dimensions."
   ]
  },
  {
   "cell_type": "code",
   "execution_count": 1,
   "id": "ced47c43",
   "metadata": {},
   "outputs": [],
   "source": [
    "import pandas as pd\n",
    "import numpy as np\n",
    "from sklearn.model_selection import train_test_split\n",
    "from sklearn.linear_model import LinearRegression\n",
    "from sklearn.cluster import KMeans\n",
    "from sklearn.metrics import mean_squared_error\n",
    "import seaborn as sns\n",
    "import matplotlib.pyplot as plt\n",
    "import folium\n",
    "from collections import defaultdict\n",
    "from sklearn.metrics import silhouette_score, calinski_harabasz_score"
   ]
  },
  {
   "cell_type": "code",
   "execution_count": 2,
   "id": "e21a2a18",
   "metadata": {},
   "outputs": [],
   "source": [
    "dataset = pd.read_csv(\"201902-fordgobike-tripdata.csv\")"
   ]
  },
  {
   "cell_type": "markdown",
   "id": "f6259d95",
   "metadata": {},
   "source": [
    "Structure: Each row of the dataset represents a single ride, and each column represents a different attribute or feature. There are 183412 records and 16 dimensions.\n",
    "\n",
    "Here are some main features that are included in a dataset:\n",
    "\n",
    "duration_sec: The duration of a single trip in seconds.\n",
    "\n",
    "Start Time: The start time of the bike trip.\n",
    "\n",
    "End Time: The end time of the bike trip.\n",
    "\n",
    "Start Station ID: This is a unique identifier for the start station of the single-vehicle trip.\n",
    "\n",
    "Start Station Name: The name of the start station of the bicycle trip.\n",
    "\n",
    "Start Station Latitude: The latitude of the start station of the bicycle trip.\n",
    "\n",
    "Start Station Longitude: The longitude of the start station of the bicycle trip.\n",
    "\n",
    "End Station ID: This is a unique identifier for the end station of the single-vehicle trip.\n",
    "\n",
    "End Station Name: The name of the end station of the bicycle trip.\n",
    "\n",
    "End Station Latitude: The latitude of the end station of the single tour.\n",
    "\n",
    "End Station Longitude: The longitude of the end station of the bicycle trip.\n",
    "\n",
    "Bike ID: A unique identifier for your bike\n",
    "\n",
    "User Type: This is the user type, which may be \"Subscriber\" or \"Customer\".\n",
    "\n",
    "Member Birth Year: The birth year of the user.\n",
    "\n",
    "Member Gender: The gender of the user"
   ]
  },
  {
   "cell_type": "code",
   "execution_count": 3,
   "id": "1998ce9e",
   "metadata": {},
   "outputs": [
    {
     "name": "stdout",
     "output_type": "stream",
     "text": [
      "(183412, 16)\n",
      "duration_sec                 int64\n",
      "start_time                  object\n",
      "end_time                    object\n",
      "start_station_id           float64\n",
      "start_station_name          object\n",
      "start_station_latitude     float64\n",
      "start_station_longitude    float64\n",
      "end_station_id             float64\n",
      "end_station_name            object\n",
      "end_station_latitude       float64\n",
      "end_station_longitude      float64\n",
      "bike_id                      int64\n",
      "user_type                   object\n",
      "member_birth_year          float64\n",
      "member_gender               object\n",
      "bike_share_for_all_trip     object\n",
      "dtype: object\n",
      "   duration_sec                start_time                  end_time  \\\n",
      "0         52185  2019-02-28 17:32:10.1450  2019-03-01 08:01:55.9750   \n",
      "1         42521  2019-02-28 18:53:21.7890  2019-03-01 06:42:03.0560   \n",
      "2         61854  2019-02-28 12:13:13.2180  2019-03-01 05:24:08.1460   \n",
      "3         36490  2019-02-28 17:54:26.0100  2019-03-01 04:02:36.8420   \n",
      "4          1585  2019-02-28 23:54:18.5490  2019-03-01 00:20:44.0740   \n",
      "\n",
      "   start_station_id                                start_station_name  \\\n",
      "0              21.0  Montgomery St BART Station (Market St at 2nd St)   \n",
      "1              23.0                     The Embarcadero at Steuart St   \n",
      "2              86.0                           Market St at Dolores St   \n",
      "3             375.0                           Grove St at Masonic Ave   \n",
      "4               7.0                               Frank H Ogawa Plaza   \n",
      "\n",
      "   start_station_latitude  start_station_longitude  end_station_id  \\\n",
      "0               37.789625              -122.400811            13.0   \n",
      "1               37.791464              -122.391034            81.0   \n",
      "2               37.769305              -122.426826             3.0   \n",
      "3               37.774836              -122.446546            70.0   \n",
      "4               37.804562              -122.271738           222.0   \n",
      "\n",
      "                               end_station_name  end_station_latitude  \\\n",
      "0                Commercial St at Montgomery St             37.794231   \n",
      "1                            Berry St at 4th St             37.775880   \n",
      "2  Powell St BART Station (Market St at 4th St)             37.786375   \n",
      "3                        Central Ave at Fell St             37.773311   \n",
      "4                         10th Ave at E 15th St             37.792714   \n",
      "\n",
      "   end_station_longitude  bike_id   user_type  member_birth_year  \\\n",
      "0            -122.402923     4902    Customer             1984.0   \n",
      "1            -122.393170     2535    Customer                NaN   \n",
      "2            -122.404904     5905    Customer             1972.0   \n",
      "3            -122.444293     6638  Subscriber             1989.0   \n",
      "4            -122.248780     4898  Subscriber             1974.0   \n",
      "\n",
      "  member_gender bike_share_for_all_trip  \n",
      "0          Male                      No  \n",
      "1           NaN                      No  \n",
      "2          Male                      No  \n",
      "3         Other                      No  \n",
      "4          Male                     Yes  \n"
     ]
    }
   ],
   "source": [
    "print(dataset.shape)\n",
    "print(dataset.dtypes)\n",
    "print(dataset.head(5))"
   ]
  },
  {
   "cell_type": "markdown",
   "id": "08a06b79",
   "metadata": {},
   "source": [
    "## 3. Data preparation\n",
    "\n",
    "Delete rows with null values in the dataset\n",
    "\n",
    "Convert year of birth to age\n",
    "\n",
    "Extract hours from the use-by date for easy analysis."
   ]
  },
  {
   "cell_type": "code",
   "execution_count": 4,
   "id": "ca80ad9e",
   "metadata": {},
   "outputs": [
    {
     "name": "stdout",
     "output_type": "stream",
     "text": [
      "(174952, 16)\n",
      "duration_sec                 int64\n",
      "start_time                  object\n",
      "end_time                    object\n",
      "start_station_id           float64\n",
      "start_station_name          object\n",
      "start_station_latitude     float64\n",
      "start_station_longitude    float64\n",
      "end_station_id             float64\n",
      "end_station_name            object\n",
      "end_station_latitude       float64\n",
      "end_station_longitude      float64\n",
      "bike_id                      int64\n",
      "user_type                   object\n",
      "member_birth_year          float64\n",
      "member_gender               object\n",
      "bike_share_for_all_trip     object\n",
      "dtype: object\n"
     ]
    }
   ],
   "source": [
    "dataset.dropna(inplace=True)\n",
    "print(dataset.shape)\n",
    "print(dataset.dtypes)"
   ]
  },
  {
   "cell_type": "code",
   "execution_count": 5,
   "id": "08114e52",
   "metadata": {},
   "outputs": [],
   "source": [
    "dataset['member_birth_year'] = 2023 - dataset['member_birth_year']"
   ]
  },
  {
   "cell_type": "code",
   "execution_count": 6,
   "id": "6ac1df19",
   "metadata": {},
   "outputs": [
    {
     "name": "stdout",
     "output_type": "stream",
     "text": [
      "(174952, 18)\n"
     ]
    }
   ],
   "source": [
    "def Time_to_Hour(dataset, column):\n",
    "    dataset[column] = pd.to_datetime(dataset[column])\n",
    "    dataset[column+'_hours'] = dataset[column].dt.hour + dataset[column].dt.minute / 60.0\n",
    "Time_to_Hour(dataset,\"start_time\")\n",
    "Time_to_Hour(dataset,\"end_time\")\n",
    "print(dataset.shape)"
   ]
  },
  {
   "cell_type": "code",
   "execution_count": 7,
   "id": "72f288e6",
   "metadata": {},
   "outputs": [
    {
     "data": {
      "text/html": [
       "<div>\n",
       "<style scoped>\n",
       "    .dataframe tbody tr th:only-of-type {\n",
       "        vertical-align: middle;\n",
       "    }\n",
       "\n",
       "    .dataframe tbody tr th {\n",
       "        vertical-align: top;\n",
       "    }\n",
       "\n",
       "    .dataframe thead th {\n",
       "        text-align: right;\n",
       "    }\n",
       "</style>\n",
       "<table border=\"1\" class=\"dataframe\">\n",
       "  <thead>\n",
       "    <tr style=\"text-align: right;\">\n",
       "      <th></th>\n",
       "      <th>duration_sec</th>\n",
       "      <th>start_time</th>\n",
       "      <th>end_time</th>\n",
       "      <th>start_station_id</th>\n",
       "      <th>start_station_name</th>\n",
       "      <th>start_station_latitude</th>\n",
       "      <th>start_station_longitude</th>\n",
       "      <th>end_station_id</th>\n",
       "      <th>end_station_name</th>\n",
       "      <th>end_station_latitude</th>\n",
       "      <th>end_station_longitude</th>\n",
       "      <th>bike_id</th>\n",
       "      <th>user_type</th>\n",
       "      <th>member_birth_year</th>\n",
       "      <th>member_gender</th>\n",
       "      <th>bike_share_for_all_trip</th>\n",
       "      <th>start_time_hours</th>\n",
       "      <th>end_time_hours</th>\n",
       "    </tr>\n",
       "  </thead>\n",
       "  <tbody>\n",
       "    <tr>\n",
       "      <th>0</th>\n",
       "      <td>52185</td>\n",
       "      <td>2019-02-28 17:32:10.145</td>\n",
       "      <td>2019-03-01 08:01:55.975</td>\n",
       "      <td>21.0</td>\n",
       "      <td>Montgomery St BART Station (Market St at 2nd St)</td>\n",
       "      <td>37.789625</td>\n",
       "      <td>-122.400811</td>\n",
       "      <td>13.0</td>\n",
       "      <td>Commercial St at Montgomery St</td>\n",
       "      <td>37.794231</td>\n",
       "      <td>-122.402923</td>\n",
       "      <td>4902</td>\n",
       "      <td>Customer</td>\n",
       "      <td>39.0</td>\n",
       "      <td>Male</td>\n",
       "      <td>No</td>\n",
       "      <td>17.533333</td>\n",
       "      <td>8.016667</td>\n",
       "    </tr>\n",
       "    <tr>\n",
       "      <th>2</th>\n",
       "      <td>61854</td>\n",
       "      <td>2019-02-28 12:13:13.218</td>\n",
       "      <td>2019-03-01 05:24:08.146</td>\n",
       "      <td>86.0</td>\n",
       "      <td>Market St at Dolores St</td>\n",
       "      <td>37.769305</td>\n",
       "      <td>-122.426826</td>\n",
       "      <td>3.0</td>\n",
       "      <td>Powell St BART Station (Market St at 4th St)</td>\n",
       "      <td>37.786375</td>\n",
       "      <td>-122.404904</td>\n",
       "      <td>5905</td>\n",
       "      <td>Customer</td>\n",
       "      <td>51.0</td>\n",
       "      <td>Male</td>\n",
       "      <td>No</td>\n",
       "      <td>12.216667</td>\n",
       "      <td>5.400000</td>\n",
       "    </tr>\n",
       "  </tbody>\n",
       "</table>\n",
       "</div>"
      ],
      "text/plain": [
       "   duration_sec              start_time                end_time  \\\n",
       "0         52185 2019-02-28 17:32:10.145 2019-03-01 08:01:55.975   \n",
       "2         61854 2019-02-28 12:13:13.218 2019-03-01 05:24:08.146   \n",
       "\n",
       "   start_station_id                                start_station_name  \\\n",
       "0              21.0  Montgomery St BART Station (Market St at 2nd St)   \n",
       "2              86.0                           Market St at Dolores St   \n",
       "\n",
       "   start_station_latitude  start_station_longitude  end_station_id  \\\n",
       "0               37.789625              -122.400811            13.0   \n",
       "2               37.769305              -122.426826             3.0   \n",
       "\n",
       "                               end_station_name  end_station_latitude  \\\n",
       "0                Commercial St at Montgomery St             37.794231   \n",
       "2  Powell St BART Station (Market St at 4th St)             37.786375   \n",
       "\n",
       "   end_station_longitude  bike_id user_type  member_birth_year member_gender  \\\n",
       "0            -122.402923     4902  Customer               39.0          Male   \n",
       "2            -122.404904     5905  Customer               51.0          Male   \n",
       "\n",
       "  bike_share_for_all_trip  start_time_hours  end_time_hours  \n",
       "0                      No         17.533333        8.016667  \n",
       "2                      No         12.216667        5.400000  "
      ]
     },
     "execution_count": 7,
     "metadata": {},
     "output_type": "execute_result"
    }
   ],
   "source": [
    "dataset.head(2)"
   ]
  },
  {
   "cell_type": "markdown",
   "id": "56aad414",
   "metadata": {},
   "source": [
    "## 4. Modeling & Evaluation & Deployment"
   ]
  },
  {
   "cell_type": "markdown",
   "id": "d56f34fe",
   "metadata": {},
   "source": [
    "#### Question 1: I use a statistical graph to show the difference in usage duration between subscribers and customers."
   ]
  },
  {
   "cell_type": "code",
   "execution_count": 8,
   "id": "a5563bbf",
   "metadata": {},
   "outputs": [],
   "source": [
    "# Divide age into different groups\n",
    "bins = [-1, 20, 30, 40, 50, 60, 100]\n",
    "\n",
    "labels = ['0-20', '20-30', '30-40', '40-50', '50-60', '60+']\n",
    "\n",
    "dataset['age_group'] = pd.cut(dataset['member_birth_year'], bins=bins, labels=labels)"
   ]
  },
  {
   "cell_type": "code",
   "execution_count": 9,
   "id": "5da321ec",
   "metadata": {},
   "outputs": [
    {
     "data": {
      "image/png": "[encoded data removed]",
      "text/plain": [
       "<Figure size 1590.38x500 with 3 Axes>"
      ]
     },
     "metadata": {},
     "output_type": "display_data"
    }
   ],
   "source": [
    "\n",
    "sns.catplot(x='user_type', y='duration_sec', hue='age_group', col='member_gender', data=dataset, kind='bar')\n",
    "\n",
    "plt.show()"
   ]
  },
  {
   "cell_type": "markdown",
   "id": "cfe16277",
   "metadata": {},
   "source": [
    "In this diagram, the horizontal coordinate is the user category, including subscribers and customers. The ordinate is the average time spent. Different colors represent different age groups. The following conclusions can be drawn from the figure:\n",
    "\n",
    "1. Subscribers generally spend less time than other users. The main reason may be that subscribers can use the shared bike unlimited times, so they will use it many times for short periods.\n",
    "\n",
    "2. The duration of use does not distinguish between men and women in general. Shared bicycles mainly undertake short trips, so the use time should be very similar. However, for other gender categories, the duration of user use fluctuates greatly, mainly due to the large probability of accidental occurrence. These users have incomplete information, which leads to this result.\n",
    "\n",
    "3. From the perspective of age, for subscribers, the older the male and female users, the longer the average use time.\n",
    "\n",
    "For evaluation, the black line above each bar is a confidence interval, and the shorter the black line, the better the effect. As can be seen from the figure, in the group where the user fills in the gender, the black line is very short, indicating that the effect is very good. If the user gender is set to OTHER, the length of the black line is relatively long, indicating that the usage of this type of user fluctuates greatly.\n"
   ]
  },
  {
   "cell_type": "markdown",
   "id": "b8af4634",
   "metadata": {},
   "source": [
    "#### Question 2: I use the cluster method -- kmeans -- to find out the best position to put share bikes. "
   ]
  },
  {
   "cell_type": "code",
   "execution_count": 10,
   "id": "eb6d50c8",
   "metadata": {},
   "outputs": [
    {
     "name": "stderr",
     "output_type": "stream",
     "text": [
      "D:\\software\\anaconda3\\lib\\site-packages\\sklearn\\cluster\\_kmeans.py:870: FutureWarning: The default value of `n_init` will change from 10 to 'auto' in 1.4. Set the value of `n_init` explicitly to suppress the warning\n",
      "  warnings.warn(\n"
     ]
    },
    {
     "data": {
      "image/png": "[encoded data removed]",
      "text/plain": [
       "<Figure size 640x480 with 1 Axes>"
      ]
     },
     "metadata": {},
     "output_type": "display_data"
    },
    {
     "name": "stdout",
     "output_type": "stream",
     "text": [
      "Cluster 1 center coordinates: [  37.86268989 -122.26603756]\n",
      "Cluster 2 center coordinates: [  37.78260428 -122.39884286]\n",
      "Cluster 3 center coordinates: [  37.33461077 -121.88948306]\n",
      "Cluster 4 center coordinates: [  37.81220513 -122.2668597 ]\n",
      "Cluster 5 center coordinates: [  37.76750861 -122.42240662]\n"
     ]
    }
   ],
   "source": [
    "# Select the features to be clustered\n",
    "features = ['start_station_latitude', 'start_station_longitude']\n",
    "X = dataset[features]\n",
    "\n",
    "# Initialize KMeans\n",
    "kmeans = KMeans(n_clusters=5, random_state=42)\n",
    "\n",
    "# Fit the data\n",
    "kmeans.fit(X)\n",
    "\n",
    "# Get the cluster labels\n",
    "labels = kmeans.labels_\n",
    "\n",
    "# Append the cluster labels to the original data\n",
    "dataset['Cluster'] = labels\n",
    "\n",
    "# Get the coordinates of the cluster centers\n",
    "centers = kmeans.cluster_centers_\n",
    "\n",
    "# Plot the clustering results\n",
    "plt.scatter(dataset['start_station_longitude'], dataset['start_station_latitude'], c=dataset['Cluster'])\n",
    "\n",
    "# Plot the cluster centers\n",
    "plt.scatter(centers[:, 1], centers[:, 0], c='red', marker='x')  # Cluster centers are represented by red 'x'\n",
    "\n",
    "plt.show()\n",
    "\n",
    "# Print the coordinates of the cluster centers\n",
    "for i, center in enumerate(centers):\n",
    "    print(f\"Cluster {i+1} center coordinates: {center}\")"
   ]
  },
  {
   "cell_type": "code",
   "execution_count": 11,
   "id": "b3f678bf",
   "metadata": {
    "scrolled": true
   },
   "outputs": [
    {
     "name": "stderr",
     "output_type": "stream",
     "text": [
      "D:\\software\\anaconda3\\lib\\site-packages\\sklearn\\cluster\\_kmeans.py:870: FutureWarning: The default value of `n_init` will change from 10 to 'auto' in 1.4. Set the value of `n_init` explicitly to suppress the warning\n",
      "  warnings.warn(\n"
     ]
    },
    {
     "name": "stdout",
     "output_type": "stream",
     "text": [
      "At the location (-122.26603756029422, 37.862689891319974), there should be 582 bikes per day.\n",
      "At the location (-122.39884286015376, 37.7826042760371), there should be 2058 bikes per day.\n",
      "At the location (-121.88948306313169, 37.334610772984114), there should be 209 bikes per day.\n",
      "At the location (-122.26685969530446, 37.81220513150584), there should be 476 bikes per day.\n",
      "At the location (-122.42240661735238, 37.76750861186252), there should be 1279 bikes per day.\n"
     ]
    }
   ],
   "source": [
    "# Select the features to be clustered\n",
    "features = ['start_station_latitude', 'start_station_longitude']\n",
    "X = dataset[features]\n",
    "\n",
    "# Initialize KMeans\n",
    "kmeans = KMeans(n_clusters=5, random_state=42)\n",
    "\n",
    "# Fit the data\n",
    "kmeans.fit(X)\n",
    "\n",
    "# Get the cluster labels\n",
    "labels = kmeans.labels_\n",
    "\n",
    "# Add the cluster labels to the original data\n",
    "dataset['Cluster'] = labels\n",
    "\n",
    "# Get the coordinates of the cluster centers\n",
    "centers = kmeans.cluster_centers_\n",
    "\n",
    "# Convert the date and time to datetime type for grouping\n",
    "dataset['start_time'] = pd.to_datetime(dataset['start_time'])\n",
    "\n",
    "# Create a dictionary to store the bike usage counts per day for each cluster\n",
    "cluster_day_bike_use_counts = defaultdict(int)\n",
    "\n",
    "# Iterate over each row of data\n",
    "for _, row in dataset.iterrows():\n",
    "    # Get the cluster and date\n",
    "    cluster = row['Cluster']\n",
    "    date = row['start_time'].date()\n",
    "    \n",
    "    # Increase the bike usage count\n",
    "    cluster_day_bike_use_counts[(cluster, date)] += 1\n",
    "\n",
    "# Create a dictionary to store the average daily bike usage counts for each cluster\n",
    "cluster_avg_day_bike_use_counts = defaultdict(int)\n",
    "\n",
    "# Iterate over cluster_day_bike_use_counts\n",
    "for (cluster, date), count in cluster_day_bike_use_counts.items():\n",
    "    cluster_avg_day_bike_use_counts[cluster] += count\n",
    "\n",
    "# Compute the average\n",
    "for cluster in cluster_avg_day_bike_use_counts:\n",
    "    # We assume that your dataset contains data for 28 days\n",
    "    cluster_avg_day_bike_use_counts[cluster] /= 28\n",
    "\n",
    "# Compute the ratio of average daily bike usage for each cluster\n",
    "cluster_avg_day_bike_use_ratios = {cluster: count / sum(cluster_avg_day_bike_use_counts.values()) for cluster, count in cluster_avg_day_bike_use_counts.items()}\n",
    "\n",
    "# Compute the total number of unique bikes in the dataset\n",
    "total_bikes = len(set(dataset['bike_id']))\n",
    "\n",
    "# Allocate bikes to each cluster based on the ratio of average daily bike usage\n",
    "bikes_per_cluster = {cluster: int(ratio * total_bikes) for cluster, ratio in cluster_avg_day_bike_use_ratios.items()}\n",
    "\n",
    "# Print the coordinates of the cluster center and the number of bikes to be placed per day for each cluster\n",
    "for cluster, bikes in sorted(bikes_per_cluster.items()):\n",
    "    center = centers[cluster]\n",
    "    print(f\"At the location ({center[1]}, {center[0]}), there should be {bikes} bikes per day.\")"
   ]
  },
  {
   "cell_type": "code",
   "execution_count": 12,
   "id": "02e9d915",
   "metadata": {},
   "outputs": [
    {
     "name": "stdout",
     "output_type": "stream",
     "text": [
      "Inertia: 34.010320660754225\n",
      "Silhouette Score: 0.5188112954269369\n",
      "Calinski-Harabasz Score: 5342201.931688297\n"
     ]
    }
   ],
   "source": [
    "# Inertia\n",
    "inertia = kmeans.inertia_\n",
    "print(f\"Inertia: {inertia}\")\n",
    "\n",
    "# Silhouette\n",
    "silhouette = silhouette_score(X, labels)\n",
    "print(f\"Silhouette Score: {silhouette}\")\n",
    "\n",
    "# Calinski-Harabasz\n",
    "calinski_harabasz = calinski_harabasz_score(X, labels)\n",
    "print(f\"Calinski-Harabasz Score: {calinski_harabasz}\")"
   ]
  },
  {
   "cell_type": "code",
   "execution_count": 13,
   "id": "7ba232b8",
   "metadata": {
    "scrolled": false
   },
   "outputs": [
    {
     "data": {
      "text/html": [
       "<div style=\"width:100%;\"><div style=\"position:relative;width:100%;height:0;padding-bottom:60%;\"><span style=\"color:#565656\">Make this Notebook Trusted to load map: File -> Trust Notebook</span><iframe srcdoc=\"&lt;!DOCTYPE html&gt;\n",
       "&lt;html&gt;\n",
       "&lt;head&gt;\n",
       "    \n",
       "    &lt;meta http-equiv=&quot;content-type&quot; content=&quot;text/html; charset=UTF-8&quot; /&gt;\n",
       "    \n",
       "        &lt;script&gt;\n",
       "            L_NO_TOUCH = false;\n",
       "            L_DISABLE_3D = false;\n",
       "        &lt;/script&gt;\n",
       "    \n",
       "    &lt;style&gt;html, body {width: 100%;height: 100%;margin: 0;padding: 0;}&lt;/style&gt;\n",
       "    &lt;style&gt;#map {position:absolute;top:0;bottom:0;right:0;left:0;}&lt;/style&gt;\n",
       "    &lt;script src=&quot;https://cdn.jsdelivr.net/npm/leaflet@1.9.3/dist/leaflet.js&quot;&gt;&lt;/script&gt;\n",
       "    &lt;script src=&quot;https://code.jquery.com/jquery-3.7.1.min.js&quot;&gt;&lt;/script&gt;\n",
       "    &lt;script src=&quot;https://cdn.jsdelivr.net/npm/bootstrap@5.2.2/dist/js/bootstrap.bundle.min.js&quot;&gt;&lt;/script&gt;\n",
       "    &lt;script src=&quot;https://cdnjs.cloudflare.com/ajax/libs/Leaflet.awesome-markers/2.0.2/leaflet.awesome-markers.js&quot;&gt;&lt;/script&gt;\n",
       "    &lt;link rel=&quot;stylesheet&quot; href=&quot;https://cdn.jsdelivr.net/npm/leaflet@1.9.3/dist/leaflet.css&quot;/&gt;\n",
       "    &lt;link rel=&quot;stylesheet&quot; href=&quot;https://cdn.jsdelivr.net/npm/bootstrap@5.2.2/dist/css/bootstrap.min.css&quot;/&gt;\n",
       "    &lt;link rel=&quot;stylesheet&quot; href=&quot;https://netdna.bootstrapcdn.com/bootstrap/3.0.0/css/bootstrap.min.css&quot;/&gt;\n",
       "    &lt;link rel=&quot;stylesheet&quot; href=&quot;https://cdn.jsdelivr.net/npm/@fortawesome/fontawesome-free@6.2.0/css/all.min.css&quot;/&gt;\n",
       "    &lt;link rel=&quot;stylesheet&quot; href=&quot;https://cdnjs.cloudflare.com/ajax/libs/Leaflet.awesome-markers/2.0.2/leaflet.awesome-markers.css&quot;/&gt;\n",
       "    &lt;link rel=&quot;stylesheet&quot; href=&quot;https://cdn.jsdelivr.net/gh/python-visualization/folium/folium/templates/leaflet.awesome.rotate.min.css&quot;/&gt;\n",
       "    \n",
       "            &lt;meta name=&quot;viewport&quot; content=&quot;width=device-width,\n",
       "                initial-scale=1.0, maximum-scale=1.0, user-scalable=no&quot; /&gt;\n",
       "            &lt;style&gt;\n",
       "                #map_dc6e3a401c16a36f0f6e0ea9522d9bc2 {\n",
       "                    position: relative;\n",
       "                    width: 100.0%;\n",
       "                    height: 100.0%;\n",
       "                    left: 0.0%;\n",
       "                    top: 0.0%;\n",
       "                }\n",
       "                .leaflet-container { font-size: 1rem; }\n",
       "            &lt;/style&gt;\n",
       "        \n",
       "&lt;/head&gt;\n",
       "&lt;body&gt;\n",
       "    \n",
       "    \n",
       "            &lt;div class=&quot;folium-map&quot; id=&quot;map_dc6e3a401c16a36f0f6e0ea9522d9bc2&quot; &gt;&lt;/div&gt;\n",
       "        \n",
       "&lt;/body&gt;\n",
       "&lt;script&gt;\n",
       "    \n",
       "    \n",
       "            var map_dc6e3a401c16a36f0f6e0ea9522d9bc2 = L.map(\n",
       "                &quot;map_dc6e3a401c16a36f0f6e0ea9522d9bc2&quot;,\n",
       "                {\n",
       "                    center: [37.8, -122.3],\n",
       "                    crs: L.CRS.EPSG3857,\n",
       "                    zoom: 10,\n",
       "                    zoomControl: true,\n",
       "                    preferCanvas: false,\n",
       "                }\n",
       "            );\n",
       "\n",
       "            \n",
       "\n",
       "        \n",
       "    \n",
       "            var tile_layer_c2b864deed141c19ede82877ff02dfcd = L.tileLayer(\n",
       "                &quot;https://{s}.tile.openstreetmap.org/{z}/{x}/{y}.png&quot;,\n",
       "                {&quot;attribution&quot;: &quot;Data by \\u0026copy; \\u003ca target=\\&quot;_blank\\&quot; href=\\&quot;http://openstreetmap.org\\&quot;\\u003eOpenStreetMap\\u003c/a\\u003e, under \\u003ca target=\\&quot;_blank\\&quot; href=\\&quot;http://www.openstreetmap.org/copyright\\&quot;\\u003eODbL\\u003c/a\\u003e.&quot;, &quot;detectRetina&quot;: false, &quot;maxNativeZoom&quot;: 18, &quot;maxZoom&quot;: 18, &quot;minZoom&quot;: 0, &quot;noWrap&quot;: false, &quot;opacity&quot;: 1, &quot;subdomains&quot;: &quot;abc&quot;, &quot;tms&quot;: false}\n",
       "            );\n",
       "        \n",
       "    \n",
       "                tile_layer_c2b864deed141c19ede82877ff02dfcd.addTo(map_dc6e3a401c16a36f0f6e0ea9522d9bc2);\n",
       "    \n",
       "            var circle_marker_5dd882af9bd1756218b386924a65506c = L.circleMarker(\n",
       "                [37.862689891319974, -122.26603756029422],\n",
       "                {&quot;bubblingMouseEvents&quot;: true, &quot;color&quot;: &quot;blue&quot;, &quot;dashArray&quot;: null, &quot;dashOffset&quot;: null, &quot;fill&quot;: true, &quot;fillColor&quot;: &quot;blue&quot;, &quot;fillOpacity&quot;: 0.2, &quot;fillRule&quot;: &quot;evenodd&quot;, &quot;lineCap&quot;: &quot;round&quot;, &quot;lineJoin&quot;: &quot;round&quot;, &quot;opacity&quot;: 1.0, &quot;radius&quot;: 5.82, &quot;stroke&quot;: true, &quot;weight&quot;: 3}\n",
       "            ).addTo(map_dc6e3a401c16a36f0f6e0ea9522d9bc2);\n",
       "        \n",
       "    \n",
       "        var popup_9b5129f1f61c85a6c9d8136f7f4f5c1a = L.popup({&quot;maxWidth&quot;: &quot;100%&quot;});\n",
       "\n",
       "        \n",
       "            \n",
       "                var html_4118439058a98f35847874635016be5e = $(`&lt;div id=&quot;html_4118439058a98f35847874635016be5e&quot; style=&quot;width: 100.0%; height: 100.0%;&quot;&gt;582 bikes per day&lt;/div&gt;`)[0];\n",
       "                popup_9b5129f1f61c85a6c9d8136f7f4f5c1a.setContent(html_4118439058a98f35847874635016be5e);\n",
       "            \n",
       "        \n",
       "\n",
       "        circle_marker_5dd882af9bd1756218b386924a65506c.bindPopup(popup_9b5129f1f61c85a6c9d8136f7f4f5c1a)\n",
       "        ;\n",
       "\n",
       "        \n",
       "    \n",
       "    \n",
       "            var circle_marker_33ece471eb2d28c77ef8e54987d1f6b6 = L.circleMarker(\n",
       "                [37.7826042760371, -122.39884286015376],\n",
       "                {&quot;bubblingMouseEvents&quot;: true, &quot;color&quot;: &quot;blue&quot;, &quot;dashArray&quot;: null, &quot;dashOffset&quot;: null, &quot;fill&quot;: true, &quot;fillColor&quot;: &quot;blue&quot;, &quot;fillOpacity&quot;: 0.2, &quot;fillRule&quot;: &quot;evenodd&quot;, &quot;lineCap&quot;: &quot;round&quot;, &quot;lineJoin&quot;: &quot;round&quot;, &quot;opacity&quot;: 1.0, &quot;radius&quot;: 20.580000000000002, &quot;stroke&quot;: true, &quot;weight&quot;: 3}\n",
       "            ).addTo(map_dc6e3a401c16a36f0f6e0ea9522d9bc2);\n",
       "        \n",
       "    \n",
       "        var popup_980b64261839b6d990cde59411edb247 = L.popup({&quot;maxWidth&quot;: &quot;100%&quot;});\n",
       "\n",
       "        \n",
       "            \n",
       "                var html_0bffc195af6c8cfdd66d6c76e08b97d7 = $(`&lt;div id=&quot;html_0bffc195af6c8cfdd66d6c76e08b97d7&quot; style=&quot;width: 100.0%; height: 100.0%;&quot;&gt;2058 bikes per day&lt;/div&gt;`)[0];\n",
       "                popup_980b64261839b6d990cde59411edb247.setContent(html_0bffc195af6c8cfdd66d6c76e08b97d7);\n",
       "            \n",
       "        \n",
       "\n",
       "        circle_marker_33ece471eb2d28c77ef8e54987d1f6b6.bindPopup(popup_980b64261839b6d990cde59411edb247)\n",
       "        ;\n",
       "\n",
       "        \n",
       "    \n",
       "    \n",
       "            var circle_marker_158f455383ac3de317e40a288e1830f4 = L.circleMarker(\n",
       "                [37.334610772984114, -121.88948306313169],\n",
       "                {&quot;bubblingMouseEvents&quot;: true, &quot;color&quot;: &quot;blue&quot;, &quot;dashArray&quot;: null, &quot;dashOffset&quot;: null, &quot;fill&quot;: true, &quot;fillColor&quot;: &quot;blue&quot;, &quot;fillOpacity&quot;: 0.2, &quot;fillRule&quot;: &quot;evenodd&quot;, &quot;lineCap&quot;: &quot;round&quot;, &quot;lineJoin&quot;: &quot;round&quot;, &quot;opacity&quot;: 1.0, &quot;radius&quot;: 5, &quot;stroke&quot;: true, &quot;weight&quot;: 3}\n",
       "            ).addTo(map_dc6e3a401c16a36f0f6e0ea9522d9bc2);\n",
       "        \n",
       "    \n",
       "        var popup_8a33c775316fc1955d0c00129ae86bc9 = L.popup({&quot;maxWidth&quot;: &quot;100%&quot;});\n",
       "\n",
       "        \n",
       "            \n",
       "                var html_2f3ab93aebe1c75e48f325baf4b6e65f = $(`&lt;div id=&quot;html_2f3ab93aebe1c75e48f325baf4b6e65f&quot; style=&quot;width: 100.0%; height: 100.0%;&quot;&gt;209 bikes per day&lt;/div&gt;`)[0];\n",
       "                popup_8a33c775316fc1955d0c00129ae86bc9.setContent(html_2f3ab93aebe1c75e48f325baf4b6e65f);\n",
       "            \n",
       "        \n",
       "\n",
       "        circle_marker_158f455383ac3de317e40a288e1830f4.bindPopup(popup_8a33c775316fc1955d0c00129ae86bc9)\n",
       "        ;\n",
       "\n",
       "        \n",
       "    \n",
       "    \n",
       "            var circle_marker_b44968969ced41cc492de8c11f118841 = L.circleMarker(\n",
       "                [37.81220513150584, -122.26685969530446],\n",
       "                {&quot;bubblingMouseEvents&quot;: true, &quot;color&quot;: &quot;blue&quot;, &quot;dashArray&quot;: null, &quot;dashOffset&quot;: null, &quot;fill&quot;: true, &quot;fillColor&quot;: &quot;blue&quot;, &quot;fillOpacity&quot;: 0.2, &quot;fillRule&quot;: &quot;evenodd&quot;, &quot;lineCap&quot;: &quot;round&quot;, &quot;lineJoin&quot;: &quot;round&quot;, &quot;opacity&quot;: 1.0, &quot;radius&quot;: 5, &quot;stroke&quot;: true, &quot;weight&quot;: 3}\n",
       "            ).addTo(map_dc6e3a401c16a36f0f6e0ea9522d9bc2);\n",
       "        \n",
       "    \n",
       "        var popup_207c2da414d30bf300c6a4c5a8d74526 = L.popup({&quot;maxWidth&quot;: &quot;100%&quot;});\n",
       "\n",
       "        \n",
       "            \n",
       "                var html_655a5ecae00ffdcf64595d3fa5bdd787 = $(`&lt;div id=&quot;html_655a5ecae00ffdcf64595d3fa5bdd787&quot; style=&quot;width: 100.0%; height: 100.0%;&quot;&gt;476 bikes per day&lt;/div&gt;`)[0];\n",
       "                popup_207c2da414d30bf300c6a4c5a8d74526.setContent(html_655a5ecae00ffdcf64595d3fa5bdd787);\n",
       "            \n",
       "        \n",
       "\n",
       "        circle_marker_b44968969ced41cc492de8c11f118841.bindPopup(popup_207c2da414d30bf300c6a4c5a8d74526)\n",
       "        ;\n",
       "\n",
       "        \n",
       "    \n",
       "    \n",
       "            var circle_marker_4abfed5c4bdbd442ca0f76a4b8cc2a61 = L.circleMarker(\n",
       "                [37.76750861186252, -122.42240661735238],\n",
       "                {&quot;bubblingMouseEvents&quot;: true, &quot;color&quot;: &quot;blue&quot;, &quot;dashArray&quot;: null, &quot;dashOffset&quot;: null, &quot;fill&quot;: true, &quot;fillColor&quot;: &quot;blue&quot;, &quot;fillOpacity&quot;: 0.2, &quot;fillRule&quot;: &quot;evenodd&quot;, &quot;lineCap&quot;: &quot;round&quot;, &quot;lineJoin&quot;: &quot;round&quot;, &quot;opacity&quot;: 1.0, &quot;radius&quot;: 12.790000000000001, &quot;stroke&quot;: true, &quot;weight&quot;: 3}\n",
       "            ).addTo(map_dc6e3a401c16a36f0f6e0ea9522d9bc2);\n",
       "        \n",
       "    \n",
       "        var popup_72344bccbd28e13a71559d86b3f07651 = L.popup({&quot;maxWidth&quot;: &quot;100%&quot;});\n",
       "\n",
       "        \n",
       "            \n",
       "                var html_0bb3a6d7d99ddefcfddeaa4c304553b7 = $(`&lt;div id=&quot;html_0bb3a6d7d99ddefcfddeaa4c304553b7&quot; style=&quot;width: 100.0%; height: 100.0%;&quot;&gt;1279 bikes per day&lt;/div&gt;`)[0];\n",
       "                popup_72344bccbd28e13a71559d86b3f07651.setContent(html_0bb3a6d7d99ddefcfddeaa4c304553b7);\n",
       "            \n",
       "        \n",
       "\n",
       "        circle_marker_4abfed5c4bdbd442ca0f76a4b8cc2a61.bindPopup(popup_72344bccbd28e13a71559d86b3f07651)\n",
       "        ;\n",
       "\n",
       "        \n",
       "    \n",
       "&lt;/script&gt;\n",
       "&lt;/html&gt;\" style=\"position:absolute;width:100%;height:100%;left:0;top:0;border:none !important;\" allowfullscreen webkitallowfullscreen mozallowfullscreen></iframe></div></div>"
      ],
      "text/plain": [
       "<folium.folium.Map at 0x1a3f93a8ee0>"
      ]
     },
     "execution_count": 13,
     "metadata": {},
     "output_type": "execute_result"
    }
   ],
   "source": [
    "# Define the map\n",
    "m = folium.Map(location=[37.8, -122.3], zoom_start=10)\n",
    "\n",
    "locations_and_bikes = {\n",
    "    (-122.26603756029422, 37.862689891319974): 582,\n",
    "    (-122.39884286015376, 37.7826042760371): 2058,\n",
    "    (-121.88948306313169, 37.334610772984114): 209,\n",
    "    (-122.26685969530446, 37.81220513150584): 476,\n",
    "    (-122.42240661735238, 37.76750861186252): 1279\n",
    "}\n",
    "\n",
    "min_radius = 5\n",
    "scale_factor = 0.01\n",
    "\n",
    "for (lon, lat), bikes in locations_and_bikes.items():\n",
    "    folium.CircleMarker(\n",
    "        location=[lat, lon],\n",
    "        radius=max(min_radius, bikes * scale_factor), \n",
    "        popup=f'{bikes} bikes per day',\n",
    "        color='blue',\n",
    "        fill=True,\n",
    "        fill_color='blue'\n",
    "    ).add_to(m)\n",
    "\n",
    "# show the map\n",
    "m"
   ]
  },
  {
   "cell_type": "markdown",
   "id": "5d8f426d",
   "metadata": {},
   "source": [
    "This picture shows the low point of shared bicycles, and the larger the circle, the more vehicles should be placed."
   ]
  },
  {
   "cell_type": "markdown",
   "id": "72a1cad1",
   "metadata": {},
   "source": [
    "#### Question 3: Using a time line chart, plot the number of users used by the two user types and mark whether it is weekend or not."
   ]
  },
  {
   "cell_type": "code",
   "execution_count": 14,
   "id": "cf4f4646",
   "metadata": {},
   "outputs": [
    {
     "name": "stdout",
     "output_type": "stream",
     "text": [
      "   start_time   user_type  duration_sec  usage_count    weekday\n",
      "0  2019-02-01    Customer   1062.190678          472     Friday\n",
      "1  2019-02-01  Subscriber    631.224837         5355     Friday\n",
      "2  2019-02-02    Customer   1388.970745          376   Saturday\n",
      "3  2019-02-02  Subscriber    643.342596         2627   Saturday\n",
      "4  2019-02-03    Customer   1273.180645          310     Sunday\n",
      "5  2019-02-03  Subscriber    635.013756         2399     Sunday\n",
      "6  2019-02-04    Customer   1350.711172          367     Monday\n",
      "7  2019-02-04  Subscriber    586.637994         4906     Monday\n",
      "8  2019-02-05    Customer    916.305983          585    Tuesday\n",
      "9  2019-02-05  Subscriber    623.612369         7551    Tuesday\n",
      "10 2019-02-06    Customer   1337.726210          599  Wednesday\n",
      "11 2019-02-06  Subscriber    601.942776         8056  Wednesday\n",
      "12 2019-02-07    Customer   1262.173785          679   Thursday\n",
      "13 2019-02-07  Subscriber    606.946791         8119   Thursday\n",
      "14 2019-02-08    Customer   1079.246493          499     Friday\n",
      "15 2019-02-08  Subscriber    612.126005         5595     Friday\n",
      "16 2019-02-09    Customer   2468.440741          270   Saturday\n",
      "17 2019-02-09  Subscriber    666.293989         2279   Saturday\n",
      "18 2019-02-10    Customer   2106.512821          507     Sunday\n",
      "19 2019-02-10  Subscriber    720.671473         3190     Sunday\n",
      "20 2019-02-11    Customer   1395.344884          606     Monday\n",
      "21 2019-02-11  Subscriber    659.230510         7709     Monday\n",
      "22 2019-02-12    Customer   1007.223491          613    Tuesday\n",
      "23 2019-02-12  Subscriber    627.588173         7542    Tuesday\n",
      "24 2019-02-13    Customer    778.882716          162  Wednesday\n",
      "25 2019-02-13  Subscriber    580.771948         2916  Wednesday\n",
      "26 2019-02-14    Customer   1105.749012          506   Thursday\n",
      "27 2019-02-14  Subscriber    636.888870         5840   Thursday\n",
      "28 2019-02-15    Customer   1163.933530          677     Friday\n",
      "29 2019-02-15  Subscriber    656.136349         6300     Friday\n",
      "30 2019-02-16    Customer   1437.257391          575   Saturday\n",
      "31 2019-02-16  Subscriber    716.902501         3159   Saturday\n",
      "32 2019-02-17    Customer   1702.928934          788     Sunday\n",
      "33 2019-02-17  Subscriber    764.652962         3089     Sunday\n",
      "34 2019-02-18    Customer   1513.005967          838     Monday\n",
      "35 2019-02-18  Subscriber    679.825482         4458     Monday\n",
      "36 2019-02-19    Customer   1140.600791          759    Tuesday\n",
      "37 2019-02-19  Subscriber    641.629363         8337    Tuesday\n",
      "38 2019-02-20    Customer   1321.790865          832  Wednesday\n",
      "39 2019-02-20  Subscriber    629.284169         8414  Wednesday\n",
      "40 2019-02-21    Customer   1050.106667          825   Thursday\n",
      "41 2019-02-21  Subscriber    633.143701         8295   Thursday\n",
      "42 2019-02-22    Customer   1123.742441          893     Friday\n",
      "43 2019-02-22  Subscriber    644.817835         7872     Friday\n",
      "44 2019-02-23    Customer   1632.621053          950   Saturday\n",
      "45 2019-02-23  Subscriber    768.124701         4178   Saturday\n",
      "46 2019-02-24    Customer   1481.155620          694     Sunday\n",
      "47 2019-02-24  Subscriber    691.428854         3535     Sunday\n",
      "48 2019-02-25    Customer   1094.997992          498     Monday\n",
      "49 2019-02-25  Subscriber    595.273526         6259     Monday\n",
      "50 2019-02-26    Customer   1049.109325          311    Tuesday\n",
      "51 2019-02-26  Subscriber    579.114818         4886    Tuesday\n",
      "52 2019-02-27    Customer   1094.106383          517  Wednesday\n",
      "53 2019-02-27  Subscriber    645.957864         6930  Wednesday\n",
      "54 2019-02-28    Customer   1289.750583          858   Thursday\n",
      "55 2019-02-28  Subscriber    649.345285         8590   Thursday\n"
     ]
    }
   ],
   "source": [
    "dataset['start_time'] = pd.to_datetime(dataset['start_time']).dt.date\n",
    "\n",
    "avg_duration = dataset.groupby(['start_time', 'user_type'])['duration_sec'].mean().reset_index()\n",
    "\n",
    "usage_count = dataset.groupby(['start_time', 'user_type']).size().reset_index(name='usage_count')\n",
    "\n",
    "result = pd.merge(avg_duration, usage_count, on=['start_time', 'user_type'])\n",
    "\n",
    "result['start_time'] = pd.to_datetime(result['start_time'])\n",
    "result['weekday'] = result['start_time'].dt.day_name()\n",
    "\n",
    "print(result)"
   ]
  },
  {
   "cell_type": "code",
   "execution_count": 15,
   "id": "39cd1f66",
   "metadata": {},
   "outputs": [
    {
     "data": {
      "image/png": "[encoded data removed]",
      "text/plain": [
       "<Figure size 1000x600 with 1 Axes>"
      ]
     },
     "metadata": {},
     "output_type": "display_data"
    }
   ],
   "source": [
    "import matplotlib.pyplot as plt\n",
    "import matplotlib.dates as mdates\n",
    "\n",
    "customer_data = result[result['user_type'] == 'Customer']\n",
    "subscriber_data = result[result['user_type'] == 'Subscriber']\n",
    "\n",
    "fig, ax = plt.subplots(figsize=(10, 6))\n",
    "\n",
    "for i in range(len(result['start_time'])):\n",
    "    if result['start_time'].iloc[i].weekday() == 5:  # 5 corresponds to Saturday\n",
    "        if i != len(result['start_time']) - 1:\n",
    "            ax.axvspan(result['start_time'].iloc[i], result['start_time'].iloc[i + 1], facecolor='green', alpha=0.3)\n",
    "        else:\n",
    "            ax.axvspan(result['start_time'].iloc[i], result['start_time'].iloc[i] + pd.Timedelta(days=1), facecolor='green', alpha=0.3)\n",
    "\n",
    "ax.plot(customer_data['start_time'], customer_data['usage_count'], label='Customer')\n",
    "ax.plot(subscriber_data['start_time'], subscriber_data['usage_count'], label='Subscriber')\n",
    "\n",
    "ax.legend()\n",
    "\n",
    "ax.set_title('Daily Usage Count by User Type')\n",
    "ax.set_xlabel('Date')\n",
    "ax.set_ylabel('Usage Count')\n",
    "\n",
    "plt.show()"
   ]
  },
  {
   "cell_type": "markdown",
   "id": "dd9060ef",
   "metadata": {},
   "source": [
    "1. Impact of User Type: The \"Subscriber\" type of users have a significantly higher usage count than \"Customer\" type of users. This could be because \"Subscriber\" type users are long-term users who may use the service more frequently in their daily lives. On the other hand, \"Customer\" type users may be temporary users or tourists who use the service less frequently.\n",
    "\n",
    "2. Difference in Duration: The duration of use by \"Customer\" type users is generally longer than that of \"Subscriber\" type users. This might be because \"Customer\" users are more likely to be using the service for leisure activities, while \"Subscriber\" users are more likely to be commuting short distances.\n",
    "\n",
    "3. Usage throughout the Week: The usage count is generally lower on weekends (Saturday and Sunday) than on weekdays, but the average usage duration is longer. This might be because users are more likely to use the service for leisure rather than commuting on the weekends."
   ]
  }
 ],
 "metadata": {
  "kernelspec": {
   "display_name": "Python 3 (ipykernel)",
   "language": "python",
   "name": "python3"
  },
  "language_info": {
   "codemirror_mode": {
    "name": "ipython",
    "version": 3
   },
   "file_extension": ".py",
   "mimetype": "text/x-python",
   "name": "python",
   "nbconvert_exporter": "python",
   "pygments_lexer": "ipython3",
   "version": "3.10.9"
  }
 },
 "nbformat": 4,
 "nbformat_minor": 5
}
